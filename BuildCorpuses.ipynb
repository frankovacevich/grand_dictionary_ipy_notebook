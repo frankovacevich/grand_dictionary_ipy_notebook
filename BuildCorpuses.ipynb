{
 "cells": [
  {
   "cell_type": "markdown",
   "metadata": {},
   "source": [
    "<h2>Import</h2>"
   ]
  },
  {
   "cell_type": "code",
   "execution_count": 2,
   "metadata": {
    "ExecuteTime": {
     "end_time": "2019-07-29T10:58:18.120173Z",
     "start_time": "2019-07-29T10:58:18.114187Z"
    }
   },
   "outputs": [],
   "source": [
    "from python_files.getwrdlist import *\n",
    "from python_files.get_html import *\n",
    "\n",
    "from bs4 import BeautifulSoup\n",
    "from IPython.display import clear_output\n",
    "import requests\n",
    "import pyperclip\n",
    "import requests\n",
    "import re"
   ]
  },
  {
   "cell_type": "code",
   "execution_count": 3,
   "metadata": {
    "ExecuteTime": {
     "end_time": "2019-07-29T10:58:19.559664Z",
     "start_time": "2019-07-29T10:58:19.551687Z"
    }
   },
   "outputs": [],
   "source": [
    "def saveCommToFile(dic, filename):\n",
    "    output = open(filename,\"w+\",encoding=\"UTF-8\")\n",
    "    comm_ = list(dic.keys())\n",
    "    comm_.sort(key = lambda x : dic[x], reverse=True)\n",
    "\n",
    "    for w in comm_:\n",
    "        output.write(w + \" \" + str(dic[w]) + \"\\n\")\n",
    "    output.close()\n",
    "    \n",
    "    print(\"Saved to \" + filename)"
   ]
  },
  {
   "cell_type": "markdown",
   "metadata": {},
   "source": [
    "<h2>Open Subtitles and Wikipedia</h2>"
   ]
  },
  {
   "cell_type": "code",
   "execution_count": 14,
   "metadata": {
    "ExecuteTime": {
     "end_time": "2019-07-29T11:35:45.448596Z",
     "start_time": "2019-07-29T11:35:45.440618Z"
    }
   },
   "outputs": [],
   "source": [
    "## Change name of the file in line 9 and output file in last line\n",
    "## use \"corpus/wikipedia.corpus\" or \"corpus/opensub.corpus\"\n",
    "\n",
    "def load_corpus_from_big_file(file_name):\n",
    "    \n",
    "    wordcount = 0\n",
    "    totalcount = 0\n",
    "    src_ = {}\n",
    "    \n",
    "    with open(file_name,\"r\",encoding=\"UTF-8\") as f:\n",
    "        for line in f:\n",
    "            line = remove_shit(line)\n",
    "            words = line.split(\" \")\n",
    "\n",
    "            for word in words:\n",
    "                totalcount += 1\n",
    "                ##See if word is in dict\n",
    "                if word == \"\" or word == \" \":\n",
    "                    continue\n",
    "                if word not in inverse_dict:\n",
    "                    continue\n",
    "\n",
    "\n",
    "                if word in src_:\n",
    "                    src_[word] += 1\n",
    "                else:\n",
    "                    src_[word] = 1\n",
    "\n",
    "\n",
    "                ##Print Wordcount\n",
    "                wordcount += 1\n",
    "                if wordcount % 100000 == 0:\n",
    "                    clear_output(wait = True)\n",
    "                    print(wordcount / 1E6)\n",
    "\n",
    "\n",
    "        f.close()\n",
    "\n",
    "    saveCommToFile(src_, file_name.replace(\".corpus\",\".summary\"))\n",
    "    print(\"Total: \" + str(wordcount) + \" / \" + str(totalcount))"
   ]
  },
  {
   "cell_type": "code",
   "execution_count": 15,
   "metadata": {
    "ExecuteTime": {
     "end_time": "2019-07-29T11:54:30.002261Z",
     "start_time": "2019-07-29T11:35:47.893417Z"
    }
   },
   "outputs": [
    {
     "name": "stdout",
     "output_type": "stream",
     "text": [
      "196.7\n",
      "Saved to corpus/opensub.summary\n",
      "Total: 196755303 / 1500839236\n"
     ]
    }
   ],
   "source": [
    "load_corpus_from_big_file(\"corpus/wikipedia.corpus\")\n",
    "load_corpus_from_big_file(\"corpus/opensub.corpus\")"
   ]
  },
  {
   "cell_type": "markdown",
   "metadata": {},
   "source": [
    "<h2>HJK</h2>"
   ]
  },
  {
   "cell_type": "code",
   "execution_count": 14,
   "metadata": {
    "ExecuteTime": {
     "end_time": "2019-07-28T13:15:52.127961Z",
     "start_time": "2019-07-28T13:15:40.578763Z"
    }
   },
   "outputs": [
    {
     "name": "stdout",
     "output_type": "stream",
     "text": [
      "Total: 79611377 / 88316596\n",
      "Saved to corpus/hjk.txt\n",
      "Saved to corpus/hjk_original.txt\n"
     ]
    }
   ],
   "source": [
    "wordcount = 0\n",
    "totalcount = 0\n",
    "src_ = {}\n",
    "src_original = {}\n",
    "\n",
    "with open(\"corpus/hjk.corpus\",\"r\",encoding=\"UTF-8\") as f:\n",
    "    for line in f:\n",
    "        line = line.replace(\"\\n\",\"\").split(\" \")\n",
    "        word = remove_shit(line[0])\n",
    "        \n",
    "        if word == \"\" or word == \" \":\n",
    "            continue\n",
    "        word = word.replace(\" \",\"\")\n",
    "        \n",
    "        count = int(line[1])\n",
    "        totalcount += count\n",
    "        if word not in src_original:\n",
    "            src_original[word] = 0\n",
    "        src_original[word] += count\n",
    "            \n",
    "        if word not in inverse_dict:\n",
    "            continue\n",
    "    \n",
    "        for w in inverse_dict[word]:\n",
    "            if w in src_:\n",
    "                src_[w] += count / len(inverse_dict[word])\n",
    "            else:\n",
    "                src_[w] = count / len(inverse_dict[word])\n",
    "            \n",
    "            \n",
    "        ##Print Wordcount\n",
    "        wordcount += count\n",
    "            \n",
    "    f.close()\n",
    "\n",
    "print(\"Total: \" + str(wordcount) + \" / \" + str(totalcount))\n",
    "saveCommToFile(src_, \"corpus/hjk.txt\")\n",
    "saveCommToFile(src_original, \"corpus/hjk_original.txt\")"
   ]
  },
  {
   "cell_type": "markdown",
   "metadata": {},
   "source": [
    "<h3>Words not in corpus</h3>"
   ]
  },
  {
   "cell_type": "code",
   "execution_count": 15,
   "metadata": {
    "ExecuteTime": {
     "end_time": "2019-07-28T17:59:55.999875Z",
     "start_time": "2019-07-28T13:57:38.850880Z"
    }
   },
   "outputs": [
    {
     "name": "stdout",
     "output_type": "stream",
     "text": [
      "web  0.019520679895769534\n"
     ]
    },
    {
     "ename": "KeyboardInterrupt",
     "evalue": "",
     "output_type": "error",
     "traceback": [
      "\u001b[1;31m---------------------------------------------------------------------------\u001b[0m",
      "\u001b[1;31mKeyboardInterrupt\u001b[0m                         Traceback (most recent call last)",
      "\u001b[1;32m<ipython-input-15-0295167cbc2f>\u001b[0m in \u001b[0;36m<module>\u001b[1;34m\u001b[0m\n\u001b[0;32m      9\u001b[0m \u001b[0mnot_in_corpus\u001b[0m\u001b[1;33m.\u001b[0m\u001b[0msort\u001b[0m\u001b[1;33m(\u001b[0m\u001b[0mkey\u001b[0m \u001b[1;33m=\u001b[0m \u001b[1;32mlambda\u001b[0m \u001b[0mx\u001b[0m\u001b[1;33m:\u001b[0m\u001b[0msrc_original\u001b[0m\u001b[1;33m[\u001b[0m\u001b[0mx\u001b[0m\u001b[1;33m]\u001b[0m\u001b[1;33m,\u001b[0m \u001b[0mreverse\u001b[0m\u001b[1;33m=\u001b[0m\u001b[1;32mTrue\u001b[0m\u001b[1;33m)\u001b[0m\u001b[1;33m\u001b[0m\u001b[1;33m\u001b[0m\u001b[0m\n\u001b[0;32m     10\u001b[0m \u001b[0mi\u001b[0m \u001b[1;33m=\u001b[0m \u001b[1;36m0\u001b[0m\u001b[1;33m\u001b[0m\u001b[1;33m\u001b[0m\u001b[0m\n\u001b[1;32m---> 11\u001b[1;33m \u001b[1;32mfor\u001b[0m \u001b[0mw\u001b[0m \u001b[1;32min\u001b[0m \u001b[0mnot_in_corpus\u001b[0m\u001b[1;33m:\u001b[0m\u001b[1;33m\u001b[0m\u001b[1;33m\u001b[0m\u001b[0m\n\u001b[0m\u001b[0;32m     12\u001b[0m     \u001b[1;32mif\u001b[0m \u001b[0mw\u001b[0m \u001b[1;32mnot\u001b[0m \u001b[1;32min\u001b[0m \u001b[0mhrdict\u001b[0m\u001b[1;33m:\u001b[0m\u001b[1;33m\u001b[0m\u001b[1;33m\u001b[0m\u001b[0m\n\u001b[0;32m     13\u001b[0m         \u001b[1;32mcontinue\u001b[0m\u001b[1;33m\u001b[0m\u001b[1;33m\u001b[0m\u001b[0m\n",
      "\u001b[1;31mKeyboardInterrupt\u001b[0m: "
     ]
    }
   ],
   "source": [
    "hrdict = []\n",
    "with open(\"corpus/hr.dic\",\"r\",encoding=\"UTF-8\") as f:\n",
    "    for line in f:\n",
    "        line = line.split(\" \")[0]\n",
    "        hrdict.append(line)\n",
    "    f.close()\n",
    "\n",
    "not_in_corpus = [x for x in src_original if x not in inverse_dict]\n",
    "not_in_corpus.sort(key = lambda x:src_original[x], reverse=True)\n",
    "i = 0\n",
    "for w in not_in_corpus:\n",
    "    if w not in hrdict:\n",
    "        continue\n",
    "    i += 1\n",
    "    print(w + \"  \" + str(1000*src_original[w]/totalcount))\n",
    "    if i == 100:\n",
    "        break"
   ]
  }
 ],
 "metadata": {
  "kernelspec": {
   "display_name": "Python 3",
   "language": "python",
   "name": "python3"
  },
  "language_info": {
   "codemirror_mode": {
    "name": "ipython",
    "version": 3
   },
   "file_extension": ".py",
   "mimetype": "text/x-python",
   "name": "python",
   "nbconvert_exporter": "python",
   "pygments_lexer": "ipython3",
   "version": "3.6.7"
  },
  "toc": {
   "base_numbering": 1,
   "nav_menu": {},
   "number_sections": true,
   "sideBar": true,
   "skip_h1_title": true,
   "title_cell": "Table of Contents",
   "title_sidebar": "Contents",
   "toc_cell": false,
   "toc_position": {},
   "toc_section_display": true,
   "toc_window_display": false
  }
 },
 "nbformat": 4,
 "nbformat_minor": 2
}
