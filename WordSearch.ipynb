{
 "cells": [
  {
   "cell_type": "markdown",
   "metadata": {},
   "source": [
    "This file fetches word content from the wiktionary articles\n",
    "\n",
    "It can be used to get the content of a single word (1) or from a file with multiple words"
   ]
  },
  {
   "cell_type": "code",
   "execution_count": 11,
   "metadata": {
    "ExecuteTime": {
     "end_time": "2019-09-25T02:48:32.836521Z",
     "start_time": "2019-09-25T02:48:32.812586Z"
    }
   },
   "outputs": [],
   "source": [
    "from python_files.getwrdlist import *\n",
    "from python_files.get_html import *\n",
    "from python_files.get_table_fun import *\n",
    "\n",
    "from bs4 import BeautifulSoup\n",
    "from IPython.display import clear_output\n",
    "import requests\n",
    "import pyperclip\n",
    "import numpy as np\n",
    "import requests\n",
    "import re\n",
    "import datetime\n",
    "from googletrans import Translator\n",
    "\n",
    "def getHTMLCode(url):\n",
    "    try:\n",
    "        req = requests.get(url, timeout=30)\n",
    "        req.encoding = 'utf-8' \n",
    "        print(\"Processing fetch ...\")\n",
    "        return BeautifulSoup(req.text, 'html.parser')\n",
    "    except:\n",
    "        print(\"Retrying ...\")\n",
    "        return getHTMLCode(url)"
   ]
  },
  {
   "cell_type": "code",
   "execution_count": 12,
   "metadata": {
    "ExecuteTime": {
     "end_time": "2019-09-25T02:48:37.111748Z",
     "start_time": "2019-09-25T02:48:36.578215Z"
    }
   },
   "outputs": [
    {
     "name": "stdout",
     "output_type": "stream",
     "text": [
      "43148\n"
     ]
    }
   ],
   "source": [
    "## GET BIGGEST ID\n",
    "def getMaxID():\n",
    "    maxID = 0\n",
    "    with open(WORDLIST_PATH,\"r\",encoding=\"UTF-8\") as f:\n",
    "        for line in f:\n",
    "            if line.startswith(\"<ID>\"):\n",
    "                line = line[line.index(\"<ID>\")+4:line.index(\"</ID>\")]\n",
    "                if int(line) > maxID:\n",
    "                    maxID = int(line)\n",
    "\n",
    "    return maxID\n",
    "\n",
    "print(getMaxID())"
   ]
  },
  {
   "cell_type": "code",
   "execution_count": 13,
   "metadata": {
    "ExecuteTime": {
     "end_time": "2019-09-25T02:48:42.114687Z",
     "start_time": "2019-09-25T02:48:42.102720Z"
    }
   },
   "outputs": [],
   "source": [
    "def getWordContent(name, elang = \"sh\", defn = \"?\"):\n",
    "    ID = getMaxID() + 1\n",
    "\n",
    "    soup = getHTMLCode(\"https://\" + elang + \".wiktionary.org/wiki/\" + name)\n",
    "    #soup = soup.find(\"span\", {\"id\" : \"Serbo-Croatian\"})\n",
    "    tables = \"\"\n",
    "    if \"Pridjev\" in soup.text or \"Adjective\" in soup.text:\n",
    "        try:\n",
    "            tables = GET_ADJECTIVE(soup)\n",
    "        except:\n",
    "            tables = \"\"\n",
    "            \n",
    "        type_ = \"Adjective\"\n",
    "    elif \"Glagol\" in soup.text or \"Verb\" in soup.text:\n",
    "        try:\n",
    "            tables = GET_VERB(soup)\n",
    "        except:\n",
    "            tables = \"\"\n",
    "        aspect = \"\"\n",
    "        if len(soup.findAll(\"span\", {\"class\" : \"aspect impf\"})) > 0 and len(soup.findAll(\"span\", {\"class\" : \"aspect pf\"})) > 0:\n",
    "            aspect = \"imperfective or perfective\"\n",
    "        elif len(soup.findAll(\"span\", {\"class\" : \"aspect impf\"})) > 0:\n",
    "            aspect = \"imperfective\"\n",
    "        elif len(soup.findAll(\"span\", {\"class\" : \"aspect pf\"})) > 0:\n",
    "            aspect = \"perfective\"\n",
    "        type_ = \"Verb (\" + aspect + \")\"\n",
    "    elif \"Imenica\" in soup.text or \"imenice\" in soup.text or \"Noun\" in soup.text:\n",
    "        try:\n",
    "            tables = GET_NOUN(soup)\n",
    "        except:\n",
    "            tables = \"\"\n",
    "        gender = soup.find(\"span\", {\"class\" : \"gender\"}).text.strip()\n",
    "        type_ = \"Noun (\" + gender + \")\"\n",
    "    elif \"Prilog\" in soup.text or \"Adverb\" in soup.text:\n",
    "        tables = \"\"\n",
    "        type_ = \"Adverb\"\n",
    "    else:\n",
    "        type_ = \"\"\n",
    "        tables = \"\"\n",
    "\n",
    "    ctr = word_scheme(tables,name,type_,ID,defn)\n",
    "    \n",
    "    return ctr"
   ]
  },
  {
   "cell_type": "code",
   "execution_count": 14,
   "metadata": {
    "ExecuteTime": {
     "end_time": "2019-09-25T02:48:46.638150Z",
     "start_time": "2019-09-25T02:48:44.164081Z"
    }
   },
   "outputs": [
    {
     "name": "stdout",
     "output_type": "stream",
     "text": [
      "Argentinian\n",
      "Processing fetch ...\n",
      "Argentinian\n"
     ]
    }
   ],
   "source": [
    "def getGlosbeDef(word):\n",
    "    soup = getHTMLCode(\"https://glosbe.com/hr/en/\" + word)\n",
    "    if \"We are sorry, but we have no translations for\" in soup.text.strip():\n",
    "        return \"\"\n",
    "    \n",
    "    soup = soup.findAll(\"strong\", {\"class\" : \"phr\"})\n",
    "    \n",
    "    en = \"\"\n",
    "    i = 0\n",
    "    for s in soup:\n",
    "        i += 1\n",
    "        en += s.text.strip() + \", \"\n",
    "        \n",
    "        if i == 4:\n",
    "            break\n",
    "    \n",
    "    return en[0:-2]\n",
    "\n",
    "def getGoogleTranslate(word):\n",
    "    translator = Translator()\n",
    "    translation = translator.translate(word, src='hr')\n",
    "    return translation.text\n",
    "    \n",
    "print(getGoogleTranslate(\"Argentinac\"))\n",
    "print(getGlosbeDef(\"Argentinac\"))"
   ]
  },
  {
   "cell_type": "markdown",
   "metadata": {},
   "source": [
    "<hr>"
   ]
  },
  {
   "cell_type": "markdown",
   "metadata": {},
   "source": [
    "<h2>Get single word</h2>"
   ]
  },
  {
   "cell_type": "code",
   "execution_count": 16,
   "metadata": {
    "ExecuteTime": {
     "end_time": "2019-09-25T13:03:50.492466Z",
     "start_time": "2019-09-25T13:03:48.713802Z"
    }
   },
   "outputs": [
    {
     "name": "stdout",
     "output_type": "stream",
     "text": [
      "Processing fetch ...\n",
      "<word>\n",
      "<ID>43150</ID>\n",
      "<name>deminirati</name>\n",
      "<type>Verb (perfective)</type>\n",
      "<webpage>,,http://sh.wiktionary.org/wiki/deminirati</webpage>\n",
      "<originaldef></originaldef>\n",
      "<synonyms></synonyms>\n",
      "<relatedwords></relatedwords>\n",
      "<english>\n",
      "<en>demine (clear of mines, make the mines no longer explode or disappear)</en>\n",
      "</english>\n",
      "<examples>\n",
      "</examples>\n",
      "<tables>\n",
      "<tb>Past participle</tb>\n",
      "<content>null,Masculine singular,Feminine singular,Neuter singular,Masculine plural,Feminine plural,Neuter plural,,Active past participle,deminirao,deminirala,deminiralo,deminirali,deminirale,deminirala,,Passive past participle,deminiran,deminirana,deminirano,deminirani,deminirane,deminirana</content>\n",
      "<tb>Conjugation</tb>\n",
      "<content>Verbal forms,ja,ti,on / ona / ono,mi,vi,oni / one / ona,,Present,deminiram,deminiraš,deminira,deminiramo,deminirate,deminiraju,,Future I,deminirat ću / deminiraću,deminirat ćeš / deminiraćeš,deminirat će / deminiraće,deminirat ćemo / deminiraćemo,deminirat ćete / deminiraćete,deminirat će / deminiraće,,Future II,budem deminirao,budeš deminirao,bude deminirao,budemo deminirali,budete deminirali,budu deminirali,,Past Perfect,deminirao sam,deminirao si,deminirao je,deminirali smo,deminirali ste,deminirali su,,Past Pluperfect,bio sam deminirao,bio si deminirao,bio je deminirao,bili smo deminirali,bili ste deminirali,bili su deminirali,,Aorist,deminirah,deminiraše,deminiraše,deminirasmo,deminiraste,deminirahu,,Conditional I,deminirao bih,deminirao bi,deminirao bi,deminirali bismo,deminirali biste,deminirali bi,,Conditional II,bio bih deminirao,bio bi deminirao,bio bi deminirao,bili bismo deminirali,bili biste deminirali,bili bi deminirali,,Imperative,-,deminiraj,-,deminirajmo,deminirajte,-</content>\n",
      "<tb>Other verbal forms</tb>\n",
      "<content>null,Present verbal adverb,Past verbal adverb,Verbal noun,,Other verbal forms,-,deminirajući,-</content>\n",
      "</tables>\n",
      "</word>\n",
      "\n"
     ]
    }
   ],
   "source": [
    "ctr = getWordContent(\"deminirati\", defn = [\"demine (clear of mines, make the mines no longer explode or disappear)\"])\n",
    "pyperclip.copy(ctr)\n",
    "print(ctr)"
   ]
  },
  {
   "cell_type": "markdown",
   "metadata": {},
   "source": [
    "<h2>Get words from file</h2>"
   ]
  },
  {
   "cell_type": "code",
   "execution_count": null,
   "metadata": {},
   "outputs": [],
   "source": [
    "FILE_INPUT = \"input_words.txt\"\n",
    "FILE_OUTPUT = \"output_words.xml\"\n",
    "\n",
    "output = open(FILE_OUTPUT,\"w+\",encoding = \"UTF-8\")\n",
    "\n",
    "i = 0 #word counter\n",
    "s = 0 #successfuly added words counter\n",
    "error_words = []\n",
    "\n",
    "with open(FILE_INPUT,\"r\",encoding=\"UTF-8\") as f:\n",
    "    for line in f:\n",
    "        i += 1\n",
    "        line = line.replace(\"\\n\",\"\")\n",
    "        \n",
    "        defn = getGoogleTranslate(line) \n",
    "        ctr  = getWordContent(word)\n",
    "        \n",
    "        if \"<type></type>\" in ctr or defn == line:\n",
    "            continue\n",
    "            \n",
    "        s += 1\n",
    "        output.write(ctr)\n",
    "        \n",
    "        clear_output(wait = True)\n",
    "        print(\"total: \" + str(i) + \"    success: \" + str(s))\n",
    "        \n",
    "    f.close()\n",
    "    output.close()\n",
    "    \n",
    "#print words that weren't added successfully \n",
    "for line in error_words:\n",
    "    print(line)"
   ]
  }
 ],
 "metadata": {
  "kernelspec": {
   "display_name": "Python 3",
   "language": "python",
   "name": "python3"
  },
  "language_info": {
   "codemirror_mode": {
    "name": "ipython",
    "version": 3
   },
   "file_extension": ".py",
   "mimetype": "text/x-python",
   "name": "python",
   "nbconvert_exporter": "python",
   "pygments_lexer": "ipython3",
   "version": "3.6.7"
  },
  "toc": {
   "base_numbering": 1,
   "nav_menu": {},
   "number_sections": true,
   "sideBar": true,
   "skip_h1_title": true,
   "title_cell": "Table of Contents",
   "title_sidebar": "Contents",
   "toc_cell": false,
   "toc_position": {},
   "toc_section_display": true,
   "toc_window_display": false
  }
 },
 "nbformat": 4,
 "nbformat_minor": 2
}
